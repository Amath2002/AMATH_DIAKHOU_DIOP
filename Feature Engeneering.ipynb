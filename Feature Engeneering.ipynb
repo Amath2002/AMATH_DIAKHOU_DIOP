{
 "cells": [
  {
   "cell_type": "markdown",
   "id": "753388a7-5f74-4afb-aec3-13975c228e2a",
   "metadata": {
    "tags": []
   },
   "source": [
    "<h1 style=\"text-align:center;color:#06344ef6;font-size:50px;font-family:bodoni MT;border:solid\"> Initiation au machine learning : Projet final </h1>\n"
   ]
  },
  {
   "cell_type": "markdown",
   "id": "8bec28d5-ff22-4eac-9f10-1c5a12c47845",
   "metadata": {
    "tags": []
   },
   "source": [
    "<h2 style=\"text-align:center;color:#06344ef6;font-size:30px;font-family:bodoni MT\">  Prédiction des ventes du réseau Oshop </h2>"
   ]
  },
  {
   "cell_type": "markdown",
   "id": "8f092bea-940f-4592-9c52-666dde1b7d38",
   "metadata": {},
   "source": [
    "<div style=\"display:flex;text-align:justify\">\n",
    "    \n",
    "<ul style=\"text-align:justify;font-family:bodoni MT;font-size:25px;list-style-type:circle; width:60%\"> \n",
    "<span style=\"font-weight:bold\">Réalisé par: </span> \n",
    "    <ul style=\"text-align:justify;font-family:times;font-size:18px;list-style-type:circle\"> \n",
    "        <li>Mouhamed El M. DIOP</li>                                      \n",
    "        <li>Diakhou NDAO</li>\n",
    "        <li>Amath SALL</li>\n",
    "    </ul>\n",
    "    <span style=\"font-style:italic;color:#06344ef6;font-size:15px\">Eléves Ingénieurs des travaux statistiques</span>\n",
    "</ul>\n",
    " \n",
    "<ul style=\"text-align:justify;font-family:bodoni MT;font-size:23px;list-style-type:none;width:39%\"> \n",
    " <li style=\"font-weight:bold\">Sous la supervision de:</li> \n",
    "<li>Mme Mously DIAW</li>                                     \n",
    "  <span style=\"font-style:italic;color:#06344ef6;font-size:17px\"> Senior Machine Learning engineer </span>\n",
    "</ul>\n",
    "    \n",
    "</div>"
   ]
  },
  {
   "cell_type": "markdown",
   "id": "5eeb23aa-56d8-424e-a82e-5db8d48d32bb",
   "metadata": {},
   "source": [
    "**<h1 style=\"color:#06344ef6;text-align:center;font-size:35px;font-family:Bodoni MT\"> Feature Engeneering </h1>**\n"
   ]
  },
  {
   "cell_type": "code",
   "execution_count": 1,
   "id": "ffe34ebb",
   "metadata": {},
   "outputs": [],
   "source": [
    "import numpy as np \n",
    "import pandas as pd \n",
    "#import matplotlib\n",
    "#import matplotlib.pyplot as plt\n",
    "#import seaborn as sns\n",
    "import time"
   ]
  },
  {
   "cell_type": "code",
   "execution_count": 15,
   "id": "5f6cd4a7",
   "metadata": {},
   "outputs": [],
   "source": [
    "train = pd.read_csv('./bases/sales_train.csv')\n",
    "#test = pd.read_csv('./bases/test.csv')\n",
    "#shop = pd.read_csv('./bases/shops.csv')\n",
    "items = pd.read_csv('./bases/items.csv')\n",
    "#it_cat = pd.read_csv('./bases/item_categories.csv')\n",
    "#sub = pd.read_csv('./bases/sample_submission.csv')"
   ]
  },
  {
   "cell_type": "markdown",
   "id": "9c8e8d72",
   "metadata": {
    "tags": []
   },
   "source": [
    "# Data Cleaning"
   ]
  },
  {
   "cell_type": "code",
   "execution_count": 6,
   "id": "55a2415e",
   "metadata": {
    "collapsed": true,
    "jupyter": {
     "outputs_hidden": true
    },
    "tags": []
   },
   "outputs": [
    {
     "data": {
      "text/html": [
       "<div>\n",
       "<style scoped>\n",
       "    .dataframe tbody tr th:only-of-type {\n",
       "        vertical-align: middle;\n",
       "    }\n",
       "\n",
       "    .dataframe tbody tr th {\n",
       "        vertical-align: top;\n",
       "    }\n",
       "\n",
       "    .dataframe thead th {\n",
       "        text-align: right;\n",
       "    }\n",
       "</style>\n",
       "<table border=\"1\" class=\"dataframe\">\n",
       "  <thead>\n",
       "    <tr style=\"text-align: right;\">\n",
       "      <th></th>\n",
       "      <th>date_block_num</th>\n",
       "      <th>shop_id</th>\n",
       "      <th>item_id</th>\n",
       "      <th>item_price</th>\n",
       "      <th>item_cnt_day</th>\n",
       "    </tr>\n",
       "  </thead>\n",
       "  <tbody>\n",
       "    <tr>\n",
       "      <th>count</th>\n",
       "      <td>2.935849e+06</td>\n",
       "      <td>2.935849e+06</td>\n",
       "      <td>2.935849e+06</td>\n",
       "      <td>2.935849e+06</td>\n",
       "      <td>2.935849e+06</td>\n",
       "    </tr>\n",
       "    <tr>\n",
       "      <th>mean</th>\n",
       "      <td>1.456991e+01</td>\n",
       "      <td>3.300173e+01</td>\n",
       "      <td>1.019723e+04</td>\n",
       "      <td>8.908532e+02</td>\n",
       "      <td>1.242641e+00</td>\n",
       "    </tr>\n",
       "    <tr>\n",
       "      <th>std</th>\n",
       "      <td>9.422988e+00</td>\n",
       "      <td>1.622697e+01</td>\n",
       "      <td>6.324297e+03</td>\n",
       "      <td>1.729800e+03</td>\n",
       "      <td>2.618834e+00</td>\n",
       "    </tr>\n",
       "    <tr>\n",
       "      <th>min</th>\n",
       "      <td>0.000000e+00</td>\n",
       "      <td>0.000000e+00</td>\n",
       "      <td>0.000000e+00</td>\n",
       "      <td>-1.000000e+00</td>\n",
       "      <td>-2.200000e+01</td>\n",
       "    </tr>\n",
       "    <tr>\n",
       "      <th>25%</th>\n",
       "      <td>7.000000e+00</td>\n",
       "      <td>2.200000e+01</td>\n",
       "      <td>4.476000e+03</td>\n",
       "      <td>2.490000e+02</td>\n",
       "      <td>1.000000e+00</td>\n",
       "    </tr>\n",
       "    <tr>\n",
       "      <th>50%</th>\n",
       "      <td>1.400000e+01</td>\n",
       "      <td>3.100000e+01</td>\n",
       "      <td>9.343000e+03</td>\n",
       "      <td>3.990000e+02</td>\n",
       "      <td>1.000000e+00</td>\n",
       "    </tr>\n",
       "    <tr>\n",
       "      <th>75%</th>\n",
       "      <td>2.300000e+01</td>\n",
       "      <td>4.700000e+01</td>\n",
       "      <td>1.568400e+04</td>\n",
       "      <td>9.990000e+02</td>\n",
       "      <td>1.000000e+00</td>\n",
       "    </tr>\n",
       "    <tr>\n",
       "      <th>max</th>\n",
       "      <td>3.300000e+01</td>\n",
       "      <td>5.900000e+01</td>\n",
       "      <td>2.216900e+04</td>\n",
       "      <td>3.079800e+05</td>\n",
       "      <td>2.169000e+03</td>\n",
       "    </tr>\n",
       "  </tbody>\n",
       "</table>\n",
       "</div>"
      ],
      "text/plain": [
       "       date_block_num       shop_id       item_id    item_price  item_cnt_day\n",
       "count    2.935849e+06  2.935849e+06  2.935849e+06  2.935849e+06  2.935849e+06\n",
       "mean     1.456991e+01  3.300173e+01  1.019723e+04  8.908532e+02  1.242641e+00\n",
       "std      9.422988e+00  1.622697e+01  6.324297e+03  1.729800e+03  2.618834e+00\n",
       "min      0.000000e+00  0.000000e+00  0.000000e+00 -1.000000e+00 -2.200000e+01\n",
       "25%      7.000000e+00  2.200000e+01  4.476000e+03  2.490000e+02  1.000000e+00\n",
       "50%      1.400000e+01  3.100000e+01  9.343000e+03  3.990000e+02  1.000000e+00\n",
       "75%      2.300000e+01  4.700000e+01  1.568400e+04  9.990000e+02  1.000000e+00\n",
       "max      3.300000e+01  5.900000e+01  2.216900e+04  3.079800e+05  2.169000e+03"
      ]
     },
     "execution_count": 6,
     "metadata": {},
     "output_type": "execute_result"
    }
   ],
   "source": [
    "train.describe()"
   ]
  },
  {
   "cell_type": "markdown",
   "id": "a9d25975",
   "metadata": {},
   "source": [
    "###  Suppression des duplicates"
   ]
  },
  {
   "cell_type": "code",
   "execution_count": 7,
   "id": "7d9a183f",
   "metadata": {},
   "outputs": [
    {
     "data": {
      "text/plain": [
       "6"
      ]
     },
     "execution_count": 7,
     "metadata": {},
     "output_type": "execute_result"
    }
   ],
   "source": [
    "train.duplicated().sum()"
   ]
  },
  {
   "cell_type": "code",
   "execution_count": 16,
   "id": "0f983e12",
   "metadata": {},
   "outputs": [
    {
     "name": "stdout",
     "output_type": "stream",
     "text": [
      "shape (2935849, 6)\n",
      "new shape (2935843, 6)\n"
     ]
    }
   ],
   "source": [
    "print(\"shape\" ,train.shape)\n",
    "train.drop_duplicates(keep='first', inplace=True)\n",
    "train.duplicated().sum()\n",
    "\n",
    "print(\"new shape\" ,train.shape)"
   ]
  },
  {
   "cell_type": "markdown",
   "id": "6f0c5b6e",
   "metadata": {},
   "source": [
    "#### prix négatif ou vente négative"
   ]
  },
  {
   "cell_type": "code",
   "execution_count": 17,
   "id": "0587ef95-213d-4ad9-a7f1-3af58f6d44e5",
   "metadata": {},
   "outputs": [
    {
     "name": "stdout",
     "output_type": "stream",
     "text": [
      "shape_0 : (2935843, 6)\n",
      "shape_1 : (2928486, 6)\n"
     ]
    }
   ],
   "source": [
    "print('shape_0 :',train.shape)\n",
    "train = train[train.item_cnt_day>=0]\n",
    "train = train[train.item_price>=0]\n",
    "print('shape_1 :',train.shape)"
   ]
  },
  {
   "cell_type": "code",
   "execution_count": 11,
   "id": "56b60a71-6d64-46ee-a7b4-a2bd6d7a3456",
   "metadata": {
    "collapsed": true,
    "jupyter": {
     "outputs_hidden": true
    },
    "tags": []
   },
   "outputs": [
    {
     "data": {
      "text/html": [
       "<div>\n",
       "<style scoped>\n",
       "    .dataframe tbody tr th:only-of-type {\n",
       "        vertical-align: middle;\n",
       "    }\n",
       "\n",
       "    .dataframe tbody tr th {\n",
       "        vertical-align: top;\n",
       "    }\n",
       "\n",
       "    .dataframe thead th {\n",
       "        text-align: right;\n",
       "    }\n",
       "</style>\n",
       "<table border=\"1\" class=\"dataframe\">\n",
       "  <thead>\n",
       "    <tr style=\"text-align: right;\">\n",
       "      <th></th>\n",
       "      <th>date_block_num</th>\n",
       "      <th>shop_id</th>\n",
       "      <th>item_id</th>\n",
       "      <th>item_price</th>\n",
       "      <th>item_cnt_day</th>\n",
       "    </tr>\n",
       "  </thead>\n",
       "  <tbody>\n",
       "    <tr>\n",
       "      <th>count</th>\n",
       "      <td>2.928486e+06</td>\n",
       "      <td>2.928486e+06</td>\n",
       "      <td>2.928486e+06</td>\n",
       "      <td>2.928486e+06</td>\n",
       "      <td>2.928486e+06</td>\n",
       "    </tr>\n",
       "    <tr>\n",
       "      <th>mean</th>\n",
       "      <td>1.456976e+01</td>\n",
       "      <td>3.300294e+01</td>\n",
       "      <td>1.020028e+04</td>\n",
       "      <td>8.894670e+02</td>\n",
       "      <td>1.248338e+00</td>\n",
       "    </tr>\n",
       "    <tr>\n",
       "      <th>std</th>\n",
       "      <td>9.422956e+00</td>\n",
       "      <td>1.622543e+01</td>\n",
       "      <td>6.324391e+03</td>\n",
       "      <td>1.727500e+03</td>\n",
       "      <td>2.619589e+00</td>\n",
       "    </tr>\n",
       "    <tr>\n",
       "      <th>min</th>\n",
       "      <td>0.000000e+00</td>\n",
       "      <td>0.000000e+00</td>\n",
       "      <td>0.000000e+00</td>\n",
       "      <td>7.000000e-02</td>\n",
       "      <td>1.000000e+00</td>\n",
       "    </tr>\n",
       "    <tr>\n",
       "      <th>25%</th>\n",
       "      <td>7.000000e+00</td>\n",
       "      <td>2.200000e+01</td>\n",
       "      <td>4.477000e+03</td>\n",
       "      <td>2.490000e+02</td>\n",
       "      <td>1.000000e+00</td>\n",
       "    </tr>\n",
       "    <tr>\n",
       "      <th>50%</th>\n",
       "      <td>1.400000e+01</td>\n",
       "      <td>3.100000e+01</td>\n",
       "      <td>9.355000e+03</td>\n",
       "      <td>3.990000e+02</td>\n",
       "      <td>1.000000e+00</td>\n",
       "    </tr>\n",
       "    <tr>\n",
       "      <th>75%</th>\n",
       "      <td>2.300000e+01</td>\n",
       "      <td>4.700000e+01</td>\n",
       "      <td>1.569100e+04</td>\n",
       "      <td>9.990000e+02</td>\n",
       "      <td>1.000000e+00</td>\n",
       "    </tr>\n",
       "    <tr>\n",
       "      <th>max</th>\n",
       "      <td>3.300000e+01</td>\n",
       "      <td>5.900000e+01</td>\n",
       "      <td>2.216900e+04</td>\n",
       "      <td>3.079800e+05</td>\n",
       "      <td>2.169000e+03</td>\n",
       "    </tr>\n",
       "  </tbody>\n",
       "</table>\n",
       "</div>"
      ],
      "text/plain": [
       "       date_block_num       shop_id       item_id    item_price  item_cnt_day\n",
       "count    2.928486e+06  2.928486e+06  2.928486e+06  2.928486e+06  2.928486e+06\n",
       "mean     1.456976e+01  3.300294e+01  1.020028e+04  8.894670e+02  1.248338e+00\n",
       "std      9.422956e+00  1.622543e+01  6.324391e+03  1.727500e+03  2.619589e+00\n",
       "min      0.000000e+00  0.000000e+00  0.000000e+00  7.000000e-02  1.000000e+00\n",
       "25%      7.000000e+00  2.200000e+01  4.477000e+03  2.490000e+02  1.000000e+00\n",
       "50%      1.400000e+01  3.100000e+01  9.355000e+03  3.990000e+02  1.000000e+00\n",
       "75%      2.300000e+01  4.700000e+01  1.569100e+04  9.990000e+02  1.000000e+00\n",
       "max      3.300000e+01  5.900000e+01  2.216900e+04  3.079800e+05  2.169000e+03"
      ]
     },
     "execution_count": 11,
     "metadata": {},
     "output_type": "execute_result"
    }
   ],
   "source": [
    "train.describe()"
   ]
  },
  {
   "cell_type": "markdown",
   "id": "bc481133-b749-4b8c-bc35-4f23a5605be6",
   "metadata": {},
   "source": [
    "### Détection des items dont le prix varie fortement dans le mois"
   ]
  },
  {
   "cell_type": "code",
   "execution_count": 18,
   "id": "fcbd4a06",
   "metadata": {
    "tags": []
   },
   "outputs": [
    {
     "data": {
      "text/html": [
       "<div>\n",
       "<style scoped>\n",
       "    .dataframe tbody tr th:only-of-type {\n",
       "        vertical-align: middle;\n",
       "    }\n",
       "\n",
       "    .dataframe tbody tr th {\n",
       "        vertical-align: top;\n",
       "    }\n",
       "\n",
       "    .dataframe thead th {\n",
       "        text-align: right;\n",
       "    }\n",
       "</style>\n",
       "<table border=\"1\" class=\"dataframe\">\n",
       "  <thead>\n",
       "    <tr style=\"text-align: right;\">\n",
       "      <th></th>\n",
       "      <th>date_block_num</th>\n",
       "      <th>item_id</th>\n",
       "      <th>coef_var</th>\n",
       "    </tr>\n",
       "  </thead>\n",
       "  <tbody>\n",
       "    <tr>\n",
       "      <th>45500</th>\n",
       "      <td>5</td>\n",
       "      <td>11863</td>\n",
       "      <td>818.800359</td>\n",
       "    </tr>\n",
       "    <tr>\n",
       "      <th>45493</th>\n",
       "      <td>5</td>\n",
       "      <td>11856</td>\n",
       "      <td>702.738019</td>\n",
       "    </tr>\n",
       "    <tr>\n",
       "      <th>53915</th>\n",
       "      <td>6</td>\n",
       "      <td>11853</td>\n",
       "      <td>697.297041</td>\n",
       "    </tr>\n",
       "    <tr>\n",
       "      <th>57350</th>\n",
       "      <td>6</td>\n",
       "      <td>20141</td>\n",
       "      <td>692.766611</td>\n",
       "    </tr>\n",
       "    <tr>\n",
       "      <th>45507</th>\n",
       "      <td>5</td>\n",
       "      <td>11870</td>\n",
       "      <td>667.947193</td>\n",
       "    </tr>\n",
       "    <tr>\n",
       "      <th>...</th>\n",
       "      <td>...</td>\n",
       "      <td>...</td>\n",
       "      <td>...</td>\n",
       "    </tr>\n",
       "    <tr>\n",
       "      <th>233761</th>\n",
       "      <td>33</td>\n",
       "      <td>21979</td>\n",
       "      <td>NaN</td>\n",
       "    </tr>\n",
       "    <tr>\n",
       "      <th>233772</th>\n",
       "      <td>33</td>\n",
       "      <td>22020</td>\n",
       "      <td>NaN</td>\n",
       "    </tr>\n",
       "    <tr>\n",
       "      <th>233779</th>\n",
       "      <td>33</td>\n",
       "      <td>22072</td>\n",
       "      <td>NaN</td>\n",
       "    </tr>\n",
       "    <tr>\n",
       "      <th>233791</th>\n",
       "      <td>33</td>\n",
       "      <td>22111</td>\n",
       "      <td>NaN</td>\n",
       "    </tr>\n",
       "    <tr>\n",
       "      <th>233796</th>\n",
       "      <td>33</td>\n",
       "      <td>22158</td>\n",
       "      <td>NaN</td>\n",
       "    </tr>\n",
       "  </tbody>\n",
       "</table>\n",
       "<p>233802 rows × 3 columns</p>\n",
       "</div>"
      ],
      "text/plain": [
       "        date_block_num  item_id    coef_var\n",
       "45500                5    11863  818.800359\n",
       "45493                5    11856  702.738019\n",
       "53915                6    11853  697.297041\n",
       "57350                6    20141  692.766611\n",
       "45507                5    11870  667.947193\n",
       "...                ...      ...         ...\n",
       "233761              33    21979         NaN\n",
       "233772              33    22020         NaN\n",
       "233779              33    22072         NaN\n",
       "233791              33    22111         NaN\n",
       "233796              33    22158         NaN\n",
       "\n",
       "[233802 rows x 3 columns]"
      ]
     },
     "execution_count": 18,
     "metadata": {},
     "output_type": "execute_result"
    }
   ],
   "source": [
    "\n",
    "X = train.groupby(['date_block_num','item_id']).agg( {\"item_price\": [\"mean\",\"std\"]} )\n",
    "X.columns = ['item_price_mean','item_price_std']\n",
    "X['coef_var'] = X['item_price_std']/X['item_price_mean']*100\n",
    "X.reset_index(inplace =True)\n",
    "\n",
    "X[['date_block_num','item_id','coef_var']].sort_values(by=\"coef_var\",ascending=False)"
   ]
  },
  {
   "cell_type": "code",
   "execution_count": 19,
   "id": "bc1a767d-3e4f-4be0-abfb-445eb69f01eb",
   "metadata": {},
   "outputs": [
    {
     "name": "stdout",
     "output_type": "stream",
     "text": [
      "(233802, 5)\n"
     ]
    },
    {
     "data": {
      "text/plain": [
       "(15055, 5)"
      ]
     },
     "execution_count": 19,
     "metadata": {},
     "output_type": "execute_result"
    }
   ],
   "source": [
    "print(X.shape)\n",
    "X[X.coef_var>20].shape"
   ]
  },
  {
   "cell_type": "markdown",
   "id": "110c9d03-e077-4c5c-bd32-f559ecd9d1b9",
   "metadata": {},
   "source": [
    "Les items par mois ayant une variation de prix de plus de 20% seront supprimés"
   ]
  },
  {
   "cell_type": "code",
   "execution_count": 20,
   "id": "602e5f8c-3e81-4318-9ed7-eae409024315",
   "metadata": {},
   "outputs": [
    {
     "name": "stdout",
     "output_type": "stream",
     "text": [
      "train_size_0 (2928486, 7)\n",
      "final_size (2619916, 6)\n"
     ]
    }
   ],
   "source": [
    "X = X[['date_block_num','item_id','coef_var']]\n",
    "train = pd.merge(train, X, on=['date_block_num','item_id'],how=\"left\")\n",
    "del X\n",
    "print(\"train_size_0\",train.shape)\n",
    "train = train[train.coef_var<=20]\n",
    "train = train.drop(['coef_var'],axis = 1)\n",
    "print(\"final_size\",train.shape)"
   ]
  },
  {
   "cell_type": "markdown",
   "id": "79cfbc75-a370-4a10-9915-8ecb6858636f",
   "metadata": {},
   "source": [
    "## Traitement variable d'intérêt"
   ]
  },
  {
   "cell_type": "code",
   "execution_count": 21,
   "id": "724e9722-0197-427f-8928-0973a394c8ae",
   "metadata": {},
   "outputs": [],
   "source": [
    "X_train = train.copy()\n",
    "X_train = X_train.groupby(['date_block_num', 'shop_id', 'item_id'], as_index=False)['item_cnt_day'].sum()"
   ]
  },
  {
   "cell_type": "code",
   "execution_count": 22,
   "id": "155622eb-e283-4b49-bf00-3a578e1ff74b",
   "metadata": {
    "tags": []
   },
   "outputs": [],
   "source": [
    "cols  = [\"date_block_num\", \"shop_id\", \"item_id\"]\n",
    "\n",
    "group = train.groupby(['date_block_num', 'shop_id', 'item_id']).agg( {\"item_cnt_day\": [\"sum\"]} )\n",
    "group.columns=['item_cnt_month']\n",
    "group.reset_index( inplace = True)\n",
    "X_train = X_train.drop(['item_cnt_day'],axis = 1)\n",
    "X_train = pd.merge( X_train, group, on =cols, how = \"left\" )"
   ]
  },
  {
   "cell_type": "code",
   "execution_count": 23,
   "id": "df7daabd-008e-482b-9d41-b6535ae06cf5",
   "metadata": {
    "tags": []
   },
   "outputs": [
    {
     "data": {
      "text/html": [
       "<div>\n",
       "<style scoped>\n",
       "    .dataframe tbody tr th:only-of-type {\n",
       "        vertical-align: middle;\n",
       "    }\n",
       "\n",
       "    .dataframe tbody tr th {\n",
       "        vertical-align: top;\n",
       "    }\n",
       "\n",
       "    .dataframe thead th {\n",
       "        text-align: right;\n",
       "    }\n",
       "</style>\n",
       "<table border=\"1\" class=\"dataframe\">\n",
       "  <thead>\n",
       "    <tr style=\"text-align: right;\">\n",
       "      <th></th>\n",
       "      <th>date_block_num</th>\n",
       "      <th>shop_id</th>\n",
       "      <th>item_id</th>\n",
       "      <th>item_cnt_month</th>\n",
       "    </tr>\n",
       "  </thead>\n",
       "  <tbody>\n",
       "    <tr>\n",
       "      <th>count</th>\n",
       "      <td>1.420689e+06</td>\n",
       "      <td>1.420689e+06</td>\n",
       "      <td>1.420689e+06</td>\n",
       "      <td>1.420689e+06</td>\n",
       "    </tr>\n",
       "    <tr>\n",
       "      <th>mean</th>\n",
       "      <td>1.481506e+01</td>\n",
       "      <td>3.275791e+01</td>\n",
       "      <td>1.075354e+04</td>\n",
       "      <td>2.310688e+00</td>\n",
       "    </tr>\n",
       "    <tr>\n",
       "      <th>std</th>\n",
       "      <td>9.459393e+00</td>\n",
       "      <td>1.647038e+01</td>\n",
       "      <td>6.234353e+03</td>\n",
       "      <td>8.778087e+00</td>\n",
       "    </tr>\n",
       "    <tr>\n",
       "      <th>min</th>\n",
       "      <td>0.000000e+00</td>\n",
       "      <td>0.000000e+00</td>\n",
       "      <td>1.000000e+00</td>\n",
       "      <td>1.000000e+00</td>\n",
       "    </tr>\n",
       "    <tr>\n",
       "      <th>25%</th>\n",
       "      <td>7.000000e+00</td>\n",
       "      <td>2.100000e+01</td>\n",
       "      <td>5.183000e+03</td>\n",
       "      <td>1.000000e+00</td>\n",
       "    </tr>\n",
       "    <tr>\n",
       "      <th>50%</th>\n",
       "      <td>1.400000e+01</td>\n",
       "      <td>3.100000e+01</td>\n",
       "      <td>1.064200e+04</td>\n",
       "      <td>1.000000e+00</td>\n",
       "    </tr>\n",
       "    <tr>\n",
       "      <th>75%</th>\n",
       "      <td>2.300000e+01</td>\n",
       "      <td>4.700000e+01</td>\n",
       "      <td>1.608500e+04</td>\n",
       "      <td>2.000000e+00</td>\n",
       "    </tr>\n",
       "    <tr>\n",
       "      <th>max</th>\n",
       "      <td>3.300000e+01</td>\n",
       "      <td>5.900000e+01</td>\n",
       "      <td>2.216800e+04</td>\n",
       "      <td>1.644000e+03</td>\n",
       "    </tr>\n",
       "  </tbody>\n",
       "</table>\n",
       "</div>"
      ],
      "text/plain": [
       "       date_block_num       shop_id       item_id  item_cnt_month\n",
       "count    1.420689e+06  1.420689e+06  1.420689e+06    1.420689e+06\n",
       "mean     1.481506e+01  3.275791e+01  1.075354e+04    2.310688e+00\n",
       "std      9.459393e+00  1.647038e+01  6.234353e+03    8.778087e+00\n",
       "min      0.000000e+00  0.000000e+00  1.000000e+00    1.000000e+00\n",
       "25%      7.000000e+00  2.100000e+01  5.183000e+03    1.000000e+00\n",
       "50%      1.400000e+01  3.100000e+01  1.064200e+04    1.000000e+00\n",
       "75%      2.300000e+01  4.700000e+01  1.608500e+04    2.000000e+00\n",
       "max      3.300000e+01  5.900000e+01  2.216800e+04    1.644000e+03"
      ]
     },
     "execution_count": 23,
     "metadata": {},
     "output_type": "execute_result"
    }
   ],
   "source": [
    "X_train.describe()"
   ]
  },
  {
   "cell_type": "code",
   "execution_count": 24,
   "id": "4150d5e0",
   "metadata": {
    "tags": []
   },
   "outputs": [
    {
     "data": {
      "text/html": [
       "<div>\n",
       "<style scoped>\n",
       "    .dataframe tbody tr th:only-of-type {\n",
       "        vertical-align: middle;\n",
       "    }\n",
       "\n",
       "    .dataframe tbody tr th {\n",
       "        vertical-align: top;\n",
       "    }\n",
       "\n",
       "    .dataframe thead th {\n",
       "        text-align: right;\n",
       "    }\n",
       "</style>\n",
       "<table border=\"1\" class=\"dataframe\">\n",
       "  <thead>\n",
       "    <tr style=\"text-align: right;\">\n",
       "      <th></th>\n",
       "      <th>date_block_num</th>\n",
       "      <th>shop_id</th>\n",
       "      <th>item_category_id</th>\n",
       "      <th>item_id</th>\n",
       "      <th>item_cnt_month</th>\n",
       "    </tr>\n",
       "  </thead>\n",
       "  <tbody>\n",
       "    <tr>\n",
       "      <th>0</th>\n",
       "      <td>0</td>\n",
       "      <td>0</td>\n",
       "      <td>40</td>\n",
       "      <td>32</td>\n",
       "      <td>6.0</td>\n",
       "    </tr>\n",
       "    <tr>\n",
       "      <th>1</th>\n",
       "      <td>0</td>\n",
       "      <td>0</td>\n",
       "      <td>37</td>\n",
       "      <td>33</td>\n",
       "      <td>3.0</td>\n",
       "    </tr>\n",
       "    <tr>\n",
       "      <th>2</th>\n",
       "      <td>0</td>\n",
       "      <td>0</td>\n",
       "      <td>40</td>\n",
       "      <td>35</td>\n",
       "      <td>1.0</td>\n",
       "    </tr>\n",
       "    <tr>\n",
       "      <th>3</th>\n",
       "      <td>0</td>\n",
       "      <td>0</td>\n",
       "      <td>40</td>\n",
       "      <td>43</td>\n",
       "      <td>1.0</td>\n",
       "    </tr>\n",
       "    <tr>\n",
       "      <th>4</th>\n",
       "      <td>0</td>\n",
       "      <td>0</td>\n",
       "      <td>57</td>\n",
       "      <td>51</td>\n",
       "      <td>2.0</td>\n",
       "    </tr>\n",
       "    <tr>\n",
       "      <th>...</th>\n",
       "      <td>...</td>\n",
       "      <td>...</td>\n",
       "      <td>...</td>\n",
       "      <td>...</td>\n",
       "      <td>...</td>\n",
       "    </tr>\n",
       "    <tr>\n",
       "      <th>1420684</th>\n",
       "      <td>33</td>\n",
       "      <td>59</td>\n",
       "      <td>83</td>\n",
       "      <td>22087</td>\n",
       "      <td>6.0</td>\n",
       "    </tr>\n",
       "    <tr>\n",
       "      <th>1420685</th>\n",
       "      <td>33</td>\n",
       "      <td>59</td>\n",
       "      <td>83</td>\n",
       "      <td>22088</td>\n",
       "      <td>2.0</td>\n",
       "    </tr>\n",
       "    <tr>\n",
       "      <th>1420686</th>\n",
       "      <td>33</td>\n",
       "      <td>59</td>\n",
       "      <td>83</td>\n",
       "      <td>22091</td>\n",
       "      <td>1.0</td>\n",
       "    </tr>\n",
       "    <tr>\n",
       "      <th>1420687</th>\n",
       "      <td>33</td>\n",
       "      <td>59</td>\n",
       "      <td>42</td>\n",
       "      <td>22100</td>\n",
       "      <td>1.0</td>\n",
       "    </tr>\n",
       "    <tr>\n",
       "      <th>1420688</th>\n",
       "      <td>33</td>\n",
       "      <td>59</td>\n",
       "      <td>42</td>\n",
       "      <td>22102</td>\n",
       "      <td>1.0</td>\n",
       "    </tr>\n",
       "  </tbody>\n",
       "</table>\n",
       "<p>1420689 rows × 5 columns</p>\n",
       "</div>"
      ],
      "text/plain": [
       "         date_block_num  shop_id  item_category_id  item_id  item_cnt_month\n",
       "0                     0        0                40       32             6.0\n",
       "1                     0        0                37       33             3.0\n",
       "2                     0        0                40       35             1.0\n",
       "3                     0        0                40       43             1.0\n",
       "4                     0        0                57       51             2.0\n",
       "...                 ...      ...               ...      ...             ...\n",
       "1420684              33       59                83    22087             6.0\n",
       "1420685              33       59                83    22088             2.0\n",
       "1420686              33       59                83    22091             1.0\n",
       "1420687              33       59                42    22100             1.0\n",
       "1420688              33       59                42    22102             1.0\n",
       "\n",
       "[1420689 rows x 5 columns]"
      ]
     },
     "execution_count": 24,
     "metadata": {},
     "output_type": "execute_result"
    }
   ],
   "source": [
    "X_train = pd.merge(X_train , items.drop(['item_name'],axis =1), on =['item_id'],how=\"left\" )\n",
    "X_train = X_train.reindex(columns=['date_block_num','shop_id','item_category_id','item_id','item_cnt_month'])\n",
    "del items\n",
    "X_train"
   ]
  },
  {
   "cell_type": "markdown",
   "id": "d8217790-8cb8-42e2-b13c-8787aa189229",
   "metadata": {},
   "source": [
    "### Définition de la Fonction qui a tout X(t) associe X(t-lag)"
   ]
  },
  {
   "cell_type": "code",
   "execution_count": 25,
   "id": "182ca401",
   "metadata": {},
   "outputs": [],
   "source": [
    "def lag_feature( df,lags, cols ):\n",
    "    for col in cols:\n",
    "        tmp = df[[\"date_block_num\", \"shop_id\",\"item_id\",col ]]\n",
    "        for i in lags:\n",
    "            shifted = tmp.copy()\n",
    "            shifted.columns = [\"date_block_num\", \"shop_id\", \"item_id\", col + \"_lag_\"+str(i)]\n",
    "            shifted.date_block_num = shifted.date_block_num + i\n",
    "            df = pd.merge(df, shifted, on=['date_block_num','shop_id','item_id'], how='left')\n",
    "        \n",
    "    return df"
   ]
  },
  {
   "cell_type": "code",
   "execution_count": 26,
   "id": "d527cdff",
   "metadata": {},
   "outputs": [],
   "source": [
    "X_train = lag_feature( X_train, [1,2,3], [\"item_cnt_month\"] )\n",
    "X_train[X_train.date_block_num>2] = X_train[X_train.date_block_num>2].fillna(0)"
   ]
  },
  {
   "cell_type": "markdown",
   "id": "fb122dcd-a033-41f2-9e60-cd0eaea13d10",
   "metadata": {},
   "source": [
    "Dans cette partie, on catégorise les obersations, selon que les ventes au mois t-1 ont été supérieurs ou non à 20. La base est en effet assez déséquilibrée, et dans la suite, plusieurs calculs de moyenne seront faites. La catégorisation représentera la division en groupe homogène.\n",
    "La catégorisation sera faite avec la variable item_cnt_lag_1 (quantité vendu au mois t-1) , comparativement à la variable item_cnt_month(quantité vendue au mois t)."
   ]
  },
  {
   "cell_type": "code",
   "execution_count": 27,
   "id": "ce4a4f67-d1f0-4ef2-a103-206ebedfe3b0",
   "metadata": {
    "tags": []
   },
   "outputs": [],
   "source": [
    "\n",
    "\n",
    "a = pd.DataFrame((X_train.item_cnt_month>20).values)\n",
    "a.columns =[\"cat\"]\n",
    "X_train = X_train.join(a)\n",
    "\n",
    "a = pd.DataFrame((X_train.item_cnt_month_lag_1>20).values)\n",
    "a.columns =[\"cat_lag_1\"] # Variable discriminante\n",
    "X_train = X_train.join(a)"
   ]
  },
  {
   "cell_type": "code",
   "execution_count": 28,
   "id": "a64d2453-b9d1-41df-bd69-8bc5aecb0771",
   "metadata": {},
   "outputs": [
    {
     "data": {
      "text/plain": [
       "99.09297530986726"
      ]
     },
     "execution_count": 28,
     "metadata": {},
     "output_type": "execute_result"
    }
   ],
   "source": [
    "X_train[['cat','cat_lag_1']]\n",
    "test = (X_train['cat'] == X_train['cat_lag_1'])\n",
    "\n",
    "test.sum()/X_train.shape[0] *100"
   ]
  },
  {
   "cell_type": "code",
   "execution_count": 29,
   "id": "88d7a817-303c-42d2-ba5e-eb685f7c05cc",
   "metadata": {},
   "outputs": [],
   "source": [
    "X_train = X_train[test]\n",
    "X_train = X_train.drop(['cat'],axis=1)"
   ]
  },
  {
   "cell_type": "code",
   "execution_count": 31,
   "id": "5e82331f",
   "metadata": {},
   "outputs": [],
   "source": [
    "# Pour un mois , moyenne des quantités mensuelles vendues\n",
    "\n",
    "group = X_train.groupby( [\"date_block_num\",\"cat_lag_1\"] ).agg({\"item_cnt_month\" : [\"mean\"]})\n",
    "group.columns = [\"date_avg_item_cnt\"]\n",
    "group.reset_index(inplace = True)\n",
    "\n",
    "X_train = pd.merge(X_train, group, on = [\"date_block_num\",\"cat_lag_1\"], how = \"left\")\n",
    "X_train.date_avg_item_cnt = X_train[\"date_avg_item_cnt\"].astype(np.float16)\n",
    "X_train = lag_feature( X_train, [1,2,3], [\"date_avg_item_cnt\"] )\n",
    "X_train.drop( [\"date_avg_item_cnt\"], axis = 1, inplace = True )"
   ]
  },
  {
   "cell_type": "code",
   "execution_count": 201,
   "id": "ac750ee1",
   "metadata": {
    "tags": []
   },
   "outputs": [
    {
     "data": {
      "text/html": [
       "<div>\n",
       "<style scoped>\n",
       "    .dataframe tbody tr th:only-of-type {\n",
       "        vertical-align: middle;\n",
       "    }\n",
       "\n",
       "    .dataframe tbody tr th {\n",
       "        vertical-align: top;\n",
       "    }\n",
       "\n",
       "    .dataframe thead th {\n",
       "        text-align: right;\n",
       "    }\n",
       "</style>\n",
       "<table border=\"1\" class=\"dataframe\">\n",
       "  <thead>\n",
       "    <tr style=\"text-align: right;\">\n",
       "      <th></th>\n",
       "      <th>date_block_num</th>\n",
       "      <th>shop_id</th>\n",
       "      <th>item_category_id</th>\n",
       "      <th>item_id</th>\n",
       "      <th>item_cnt_month</th>\n",
       "      <th>item_cnt_month_lag_1</th>\n",
       "      <th>item_cnt_month_lag_2</th>\n",
       "      <th>item_cnt_month_lag_3</th>\n",
       "      <th>cat_lag_1</th>\n",
       "      <th>date_avg_item_cnt_lag_1</th>\n",
       "      <th>date_avg_item_cnt_lag_2</th>\n",
       "      <th>date_avg_item_cnt_lag_3</th>\n",
       "    </tr>\n",
       "  </thead>\n",
       "  <tbody>\n",
       "    <tr>\n",
       "      <th>0</th>\n",
       "      <td>0</td>\n",
       "      <td>0</td>\n",
       "      <td>40</td>\n",
       "      <td>32</td>\n",
       "      <td>6.0</td>\n",
       "      <td>NaN</td>\n",
       "      <td>NaN</td>\n",
       "      <td>NaN</td>\n",
       "      <td>False</td>\n",
       "      <td>NaN</td>\n",
       "      <td>NaN</td>\n",
       "      <td>NaN</td>\n",
       "    </tr>\n",
       "    <tr>\n",
       "      <th>1</th>\n",
       "      <td>0</td>\n",
       "      <td>0</td>\n",
       "      <td>37</td>\n",
       "      <td>33</td>\n",
       "      <td>3.0</td>\n",
       "      <td>NaN</td>\n",
       "      <td>NaN</td>\n",
       "      <td>NaN</td>\n",
       "      <td>False</td>\n",
       "      <td>NaN</td>\n",
       "      <td>NaN</td>\n",
       "      <td>NaN</td>\n",
       "    </tr>\n",
       "    <tr>\n",
       "      <th>2</th>\n",
       "      <td>0</td>\n",
       "      <td>0</td>\n",
       "      <td>40</td>\n",
       "      <td>35</td>\n",
       "      <td>1.0</td>\n",
       "      <td>NaN</td>\n",
       "      <td>NaN</td>\n",
       "      <td>NaN</td>\n",
       "      <td>False</td>\n",
       "      <td>NaN</td>\n",
       "      <td>NaN</td>\n",
       "      <td>NaN</td>\n",
       "    </tr>\n",
       "    <tr>\n",
       "      <th>3</th>\n",
       "      <td>0</td>\n",
       "      <td>0</td>\n",
       "      <td>40</td>\n",
       "      <td>43</td>\n",
       "      <td>1.0</td>\n",
       "      <td>NaN</td>\n",
       "      <td>NaN</td>\n",
       "      <td>NaN</td>\n",
       "      <td>False</td>\n",
       "      <td>NaN</td>\n",
       "      <td>NaN</td>\n",
       "      <td>NaN</td>\n",
       "    </tr>\n",
       "    <tr>\n",
       "      <th>4</th>\n",
       "      <td>0</td>\n",
       "      <td>0</td>\n",
       "      <td>57</td>\n",
       "      <td>51</td>\n",
       "      <td>2.0</td>\n",
       "      <td>NaN</td>\n",
       "      <td>NaN</td>\n",
       "      <td>NaN</td>\n",
       "      <td>False</td>\n",
       "      <td>NaN</td>\n",
       "      <td>NaN</td>\n",
       "      <td>NaN</td>\n",
       "    </tr>\n",
       "    <tr>\n",
       "      <th>...</th>\n",
       "      <td>...</td>\n",
       "      <td>...</td>\n",
       "      <td>...</td>\n",
       "      <td>...</td>\n",
       "      <td>...</td>\n",
       "      <td>...</td>\n",
       "      <td>...</td>\n",
       "      <td>...</td>\n",
       "      <td>...</td>\n",
       "      <td>...</td>\n",
       "      <td>...</td>\n",
       "      <td>...</td>\n",
       "    </tr>\n",
       "    <tr>\n",
       "      <th>1407798</th>\n",
       "      <td>33</td>\n",
       "      <td>59</td>\n",
       "      <td>83</td>\n",
       "      <td>22087</td>\n",
       "      <td>6.0</td>\n",
       "      <td>3.0</td>\n",
       "      <td>2.0</td>\n",
       "      <td>5.0</td>\n",
       "      <td>False</td>\n",
       "      <td>1.75</td>\n",
       "      <td>1.689453</td>\n",
       "      <td>1.708008</td>\n",
       "    </tr>\n",
       "    <tr>\n",
       "      <th>1407799</th>\n",
       "      <td>33</td>\n",
       "      <td>59</td>\n",
       "      <td>83</td>\n",
       "      <td>22088</td>\n",
       "      <td>2.0</td>\n",
       "      <td>1.0</td>\n",
       "      <td>7.0</td>\n",
       "      <td>7.0</td>\n",
       "      <td>False</td>\n",
       "      <td>1.75</td>\n",
       "      <td>1.689453</td>\n",
       "      <td>1.708008</td>\n",
       "    </tr>\n",
       "    <tr>\n",
       "      <th>1407800</th>\n",
       "      <td>33</td>\n",
       "      <td>59</td>\n",
       "      <td>83</td>\n",
       "      <td>22091</td>\n",
       "      <td>1.0</td>\n",
       "      <td>3.0</td>\n",
       "      <td>0.0</td>\n",
       "      <td>0.0</td>\n",
       "      <td>False</td>\n",
       "      <td>1.75</td>\n",
       "      <td>NaN</td>\n",
       "      <td>NaN</td>\n",
       "    </tr>\n",
       "    <tr>\n",
       "      <th>1407801</th>\n",
       "      <td>33</td>\n",
       "      <td>59</td>\n",
       "      <td>42</td>\n",
       "      <td>22100</td>\n",
       "      <td>1.0</td>\n",
       "      <td>1.0</td>\n",
       "      <td>0.0</td>\n",
       "      <td>0.0</td>\n",
       "      <td>False</td>\n",
       "      <td>1.75</td>\n",
       "      <td>NaN</td>\n",
       "      <td>NaN</td>\n",
       "    </tr>\n",
       "    <tr>\n",
       "      <th>1407802</th>\n",
       "      <td>33</td>\n",
       "      <td>59</td>\n",
       "      <td>42</td>\n",
       "      <td>22102</td>\n",
       "      <td>1.0</td>\n",
       "      <td>0.0</td>\n",
       "      <td>2.0</td>\n",
       "      <td>0.0</td>\n",
       "      <td>False</td>\n",
       "      <td>NaN</td>\n",
       "      <td>1.689453</td>\n",
       "      <td>NaN</td>\n",
       "    </tr>\n",
       "  </tbody>\n",
       "</table>\n",
       "<p>1407803 rows × 12 columns</p>\n",
       "</div>"
      ],
      "text/plain": [
       "         date_block_num  shop_id  item_category_id  item_id  item_cnt_month  \\\n",
       "0                     0        0                40       32             6.0   \n",
       "1                     0        0                37       33             3.0   \n",
       "2                     0        0                40       35             1.0   \n",
       "3                     0        0                40       43             1.0   \n",
       "4                     0        0                57       51             2.0   \n",
       "...                 ...      ...               ...      ...             ...   \n",
       "1407798              33       59                83    22087             6.0   \n",
       "1407799              33       59                83    22088             2.0   \n",
       "1407800              33       59                83    22091             1.0   \n",
       "1407801              33       59                42    22100             1.0   \n",
       "1407802              33       59                42    22102             1.0   \n",
       "\n",
       "         item_cnt_month_lag_1  item_cnt_month_lag_2  item_cnt_month_lag_3  \\\n",
       "0                         NaN                   NaN                   NaN   \n",
       "1                         NaN                   NaN                   NaN   \n",
       "2                         NaN                   NaN                   NaN   \n",
       "3                         NaN                   NaN                   NaN   \n",
       "4                         NaN                   NaN                   NaN   \n",
       "...                       ...                   ...                   ...   \n",
       "1407798                   3.0                   2.0                   5.0   \n",
       "1407799                   1.0                   7.0                   7.0   \n",
       "1407800                   3.0                   0.0                   0.0   \n",
       "1407801                   1.0                   0.0                   0.0   \n",
       "1407802                   0.0                   2.0                   0.0   \n",
       "\n",
       "         cat_lag_1  date_avg_item_cnt_lag_1  date_avg_item_cnt_lag_2  \\\n",
       "0            False                      NaN                      NaN   \n",
       "1            False                      NaN                      NaN   \n",
       "2            False                      NaN                      NaN   \n",
       "3            False                      NaN                      NaN   \n",
       "4            False                      NaN                      NaN   \n",
       "...            ...                      ...                      ...   \n",
       "1407798      False                     1.75                 1.689453   \n",
       "1407799      False                     1.75                 1.689453   \n",
       "1407800      False                     1.75                      NaN   \n",
       "1407801      False                     1.75                      NaN   \n",
       "1407802      False                      NaN                 1.689453   \n",
       "\n",
       "         date_avg_item_cnt_lag_3  \n",
       "0                            NaN  \n",
       "1                            NaN  \n",
       "2                            NaN  \n",
       "3                            NaN  \n",
       "4                            NaN  \n",
       "...                          ...  \n",
       "1407798                 1.708008  \n",
       "1407799                 1.708008  \n",
       "1407800                      NaN  \n",
       "1407801                      NaN  \n",
       "1407802                      NaN  \n",
       "\n",
       "[1407803 rows x 12 columns]"
      ]
     },
     "execution_count": 201,
     "metadata": {},
     "output_type": "execute_result"
    }
   ],
   "source": [
    "X_train"
   ]
  },
  {
   "cell_type": "code",
   "execution_count": 32,
   "id": "bbe63b94",
   "metadata": {},
   "outputs": [],
   "source": [
    "# Pour un mois et pour un item , moyenne des quantités mensuelles vendues\n",
    "\n",
    "group = X_train.groupby( ['date_block_num', \"cat_lag_1\",'item_id'] ).agg({\"item_cnt_month\" : [\"mean\"]})\n",
    "group.columns = [\"date_item_avg_item_cnt\"]\n",
    "group.reset_index(inplace = True)\n",
    "\n",
    "X_train = pd.merge(X_train, group, on = ['date_block_num', \"cat_lag_1\",'item_id'], how = \"left\")\n",
    "X_train.date_item_avg_item_cnt = X_train[\"date_item_avg_item_cnt\"].astype(np.float16)\n",
    "X_train = lag_feature( X_train, [1,2,3], [\"date_item_avg_item_cnt\"] )\n",
    "X_train.drop( [\"date_item_avg_item_cnt\"], axis = 1, inplace = True )"
   ]
  },
  {
   "cell_type": "code",
   "execution_count": 33,
   "id": "9092e565",
   "metadata": {},
   "outputs": [],
   "source": [
    "# Pour un mois et une boutique , moyenne des quantités mensuelles vendues\n",
    "\n",
    "group = X_train.groupby( [\"date_block_num\",\"cat_lag_1\",\"shop_id\"] ).agg({\"item_cnt_month\" : [\"mean\"]})\n",
    "group.columns = [\"date_shop_avg_item_cnt\"]\n",
    "group.reset_index(inplace = True)\n",
    "\n",
    "X_train = pd.merge(X_train, group, on = ['date_block_num',\"cat_lag_1\",'shop_id'], how = \"left\")\n",
    "X_train.date_shop_avg_item_cnt = X_train[\"date_shop_avg_item_cnt\"].astype(np.float16)\n",
    "X_train = lag_feature( X_train, [1,2,3], [\"date_shop_avg_item_cnt\"] )\n",
    "X_train.drop( [\"date_shop_avg_item_cnt\"], axis = 1, inplace = True )"
   ]
  },
  {
   "cell_type": "code",
   "execution_count": 34,
   "id": "3c25d250",
   "metadata": {},
   "outputs": [],
   "source": [
    "## Pour un mois et une catégorie , moyenne des quantités mensuelles vendues\n",
    "\n",
    "group = X_train.groupby(['date_block_num',\"cat_lag_1\",'item_category_id']).agg({\"item_cnt_month\":['mean']})\n",
    "group.columns = ['date_category_avg_item_cnt_month']\n",
    "group.reset_index(inplace=True)\n",
    "X_train = X_train.merge(group , on =['date_block_num',\"cat_lag_1\",'item_category_id'] , how = \"left\")\n",
    "X_train = lag_feature(X_train , [1,2,3],['date_category_avg_item_cnt_month'])\n",
    "X_train = X_train.drop(['date_category_avg_item_cnt_month'],axis =1)"
   ]
  },
  {
   "cell_type": "code",
   "execution_count": 35,
   "id": "59e49c1e",
   "metadata": {},
   "outputs": [],
   "source": [
    "## Pour un mois , une boutique et une catégorie , moyenne des quantités mensuelles vendues\n",
    "\n",
    "group = X_train.groupby(['date_block_num',\"cat_lag_1\",'shop_id','item_category_id']).agg({\"item_cnt_month\":['mean']})\n",
    "group.columns = ['date_shop_category_avg_item_cnt_month']\n",
    "group.reset_index(inplace=True)\n",
    "X_train = X_train.merge(group , on =['date_block_num',\"cat_lag_1\",'shop_id','item_category_id'] , how = \"left\")\n",
    "X_train = lag_feature(X_train , [1,2,3],['date_shop_category_avg_item_cnt_month'])\n",
    "X_train = X_train.drop(['date_shop_category_avg_item_cnt_month'],axis =1)"
   ]
  },
  {
   "cell_type": "markdown",
   "id": "d84d7571-312d-498e-915b-c42019b7c3cf",
   "metadata": {},
   "source": [
    "Les ventes au mois(t-lag) ayant NA sont considérées comme nulle car dans la base X_train , aucune vente mensuelle n'était renseignée à 0"
   ]
  },
  {
   "cell_type": "code",
   "execution_count": 36,
   "id": "7b66d5ca-cb27-449f-8d0c-6badb9219a03",
   "metadata": {},
   "outputs": [],
   "source": [
    "X_train[X_train.date_block_num>2] = X_train[X_train.date_block_num>2].fillna(0)"
   ]
  },
  {
   "cell_type": "markdown",
   "id": "843f5794-921e-4fc8-9532-c08f54bc4c07",
   "metadata": {},
   "source": [
    "### Création des variables relatives au prix"
   ]
  },
  {
   "cell_type": "code",
   "execution_count": 38,
   "id": "2312777b",
   "metadata": {},
   "outputs": [],
   "source": [
    "# Pour un mois, prix moyen de l'item vendu\n",
    "\n",
    "group = train.groupby( [\"date_block_num\",\"item_id\"] ).agg( {\"item_price\": [\"mean\"]} )\n",
    "group.columns = [\"date_avg_item_price\"]\n",
    "group.reset_index(inplace = True)\n",
    "X_train = X_train.merge(group, on = [\"date_block_num\",\"item_id\"], how = \"left\")\n",
    "X_train[\"date_avg_item_price\"] = X_train.date_avg_item_price.astype(np.float16)\n",
    "lags = [1, 2, 3]\n",
    "X_train = lag_feature( X_train, lags, [\"date_avg_item_price\"] )\n",
    "X_train = X_train.drop(['date_avg_item_price'],axis =1)"
   ]
  },
  {
   "cell_type": "code",
   "execution_count": 39,
   "id": "28af886b",
   "metadata": {},
   "outputs": [],
   "source": [
    "# Pour un mois et dans une boutique , prix moyen de l'item vendu\n",
    "\n",
    "group = train.groupby( [\"date_block_num\",'shop_id',\"item_id\"] ).agg( {\"item_price\": [\"mean\"]} )\n",
    "group.columns = [\"date_shop_avg_item_price\"]\n",
    "group.reset_index(inplace = True)\n",
    "X_train = X_train.merge(group, on = [\"date_block_num\",'shop_id',\"item_id\"], how = \"left\")\n",
    "X_train[\"date_shop_avg_item_price\"] = X_train.date_shop_avg_item_price.astype(np.float16)\n",
    "lags = [1, 2, 3]\n",
    "X_train = lag_feature( X_train, lags, [\"date_shop_avg_item_price\"] )\n",
    "X_train = X_train.drop(['date_shop_avg_item_price'],axis =1)"
   ]
  },
  {
   "cell_type": "code",
   "execution_count": 40,
   "id": "8cd9b116",
   "metadata": {
    "tags": []
   },
   "outputs": [
    {
     "name": "stdout",
     "output_type": "stream",
     "text": [
      "<class 'pandas.core.frame.DataFrame'>\n",
      "Int64Index: 1407803 entries, 0 to 1407802\n",
      "Data columns (total 30 columns):\n",
      " #   Column                                       Non-Null Count    Dtype  \n",
      "---  ------                                       --------------    -----  \n",
      " 0   date_block_num                               1407803 non-null  int64  \n",
      " 1   shop_id                                      1407803 non-null  int64  \n",
      " 2   item_category_id                             1407803 non-null  int64  \n",
      " 3   item_id                                      1407803 non-null  int64  \n",
      " 4   item_cnt_month                               1407803 non-null  float64\n",
      " 5   item_cnt_month_lag_1                         1292401 non-null  float64\n",
      " 6   item_cnt_month_lag_2                         1273232 non-null  float64\n",
      " 7   item_cnt_month_lag_3                         1255758 non-null  float64\n",
      " 8   cat_lag_1                                    1407803 non-null  bool   \n",
      " 9   date_avg_item_cnt_lag_1                      1292101 non-null  float16\n",
      " 10  date_avg_item_cnt_lag_2                      1273031 non-null  float16\n",
      " 11  date_avg_item_cnt_lag_3                      1255758 non-null  float16\n",
      " 12  date_item_avg_item_cnt_lag_1                 1292101 non-null  float16\n",
      " 13  date_item_avg_item_cnt_lag_2                 1273031 non-null  float16\n",
      " 14  date_item_avg_item_cnt_lag_3                 1255758 non-null  float16\n",
      " 15  date_shop_avg_item_cnt_lag_1                 1292101 non-null  float16\n",
      " 16  date_shop_avg_item_cnt_lag_2                 1273031 non-null  float16\n",
      " 17  date_shop_avg_item_cnt_lag_3                 1255758 non-null  float16\n",
      " 18  date_category_avg_item_cnt_month_lag_1       1292101 non-null  float64\n",
      " 19  date_category_avg_item_cnt_month_lag_2       1273031 non-null  float64\n",
      " 20  date_category_avg_item_cnt_month_lag_3       1255758 non-null  float64\n",
      " 21  date_shop_category_avg_item_cnt_month_lag_1  1292101 non-null  float64\n",
      " 22  date_shop_category_avg_item_cnt_month_lag_2  1273031 non-null  float64\n",
      " 23  date_shop_category_avg_item_cnt_month_lag_3  1255758 non-null  float64\n",
      " 24  date_avg_item_price_lag_1                    564055 non-null   float16\n",
      " 25  date_avg_item_price_lag_2                    486500 non-null   float16\n",
      " 26  date_avg_item_price_lag_3                    423624 non-null   float16\n",
      " 27  date_shop_avg_item_price_lag_1               564055 non-null   float16\n",
      " 28  date_shop_avg_item_price_lag_2               486500 non-null   float16\n",
      " 29  date_shop_avg_item_price_lag_3               423624 non-null   float16\n",
      "dtypes: bool(1), float16(15), float64(10), int64(4)\n",
      "memory usage: 202.7 MB\n"
     ]
    }
   ],
   "source": [
    "del group , cols\n",
    "X_train.info()"
   ]
  },
  {
   "cell_type": "markdown",
   "id": "3b7c572e",
   "metadata": {},
   "source": [
    "# Imputation des valeurs manquantes"
   ]
  },
  {
   "cell_type": "code",
   "execution_count": 41,
   "id": "a56a45f8",
   "metadata": {},
   "outputs": [],
   "source": [
    "def imputation(df):\n",
    "    cols = df.select_dtypes(exclude=['object']).columns.tolist()\n",
    "    \n",
    "    for col in cols:\n",
    "        \n",
    "        if(df[col].isna().sum()!=0):\n",
    "            moy = df.groupby(['date_block_num','item_id']).agg( {col: [\"mean\"]})\n",
    "            moy.columns=['moy col']\n",
    "            moy.reset_index(inplace=True)\n",
    "            a = pd.merge(df ,moy , on =['date_block_num','item_id'] , how=\"left\")\n",
    "            moy = a[['moy col']]\n",
    "            a = a[[col]]\n",
    "            moy.columns = a.columns.tolist()\n",
    "            a=a.combine_first(moy)\n",
    "            df = df.drop([col],axis =1)\n",
    "            df = df.join(a)\n",
    "            \n",
    "        if(df[col].isna().sum()!=0):\n",
    "            moy = df.groupby(['date_block_num','item_category_id']).agg( {col: [\"mean\"]})\n",
    "            moy.columns=['moy col']\n",
    "            moy.reset_index(inplace=True)\n",
    "            a = pd.merge(df ,moy , on =['date_block_num','item_category_id'] , how=\"left\")\n",
    "            moy = a[['moy col']]\n",
    "            a = a[[col]]\n",
    "            moy.columns = a.columns.tolist()\n",
    "            a=a.combine_first(moy)\n",
    "            df = df.drop([col],axis =1)\n",
    "            df = df.join(a)  \n",
    "            \n",
    "        if(df[col].isna().sum()!=0):\n",
    "            moy = df.groupby(['date_block_num','shop_id']).agg( {col: [\"mean\"]})\n",
    "            moy.columns=['moy col']\n",
    "            moy.reset_index(inplace=True)\n",
    "            a = pd.merge(df ,moy , on =['date_block_num','shop_id'] , how=\"left\")\n",
    "            moy = a[['moy col']]\n",
    "            a = a[[col]]\n",
    "            moy.columns = a.columns.tolist()\n",
    "            a=a.combine_first(moy)\n",
    "            df = df.drop([col],axis =1)\n",
    "            df = df.join(a)\n",
    "\n",
    "        if(df[col].isna().sum()!=0):\n",
    "            moy = df.groupby(['date_block_num']).agg( {col: [\"mean\"]})\n",
    "            moy.columns=['moy col']\n",
    "            moy.reset_index(inplace=True)\n",
    "            a = pd.merge(df ,moy , on =['date_block_num'] , how=\"left\")\n",
    "            moy = a[['moy col']]\n",
    "            a = a[[col]]\n",
    "            moy.columns = a.columns.tolist()\n",
    "            a=a.combine_first(moy)\n",
    "            df = df.drop([col],axis =1)\n",
    "            df = df.join(a)\n",
    "            \n",
    "    return df"
   ]
  },
  {
   "cell_type": "code",
   "execution_count": 42,
   "id": "ab6ac3a0",
   "metadata": {},
   "outputs": [
    {
     "name": "stdout",
     "output_type": "stream",
     "text": [
      "Wall time: 3min 46s\n"
     ]
    }
   ],
   "source": [
    "%%time\n",
    "X_train = imputation(X_train)"
   ]
  },
  {
   "cell_type": "code",
   "execution_count": 43,
   "id": "5d105961",
   "metadata": {
    "tags": []
   },
   "outputs": [
    {
     "data": {
      "text/plain": [
       "date_block_num                                 0\n",
       "shop_id                                        0\n",
       "item_category_id                               0\n",
       "item_id                                        0\n",
       "item_cnt_month                                 0\n",
       "cat_lag_1                                      0\n",
       "item_cnt_month_lag_1                           0\n",
       "item_cnt_month_lag_2                           0\n",
       "item_cnt_month_lag_3                           0\n",
       "date_avg_item_cnt_lag_1                        0\n",
       "date_avg_item_cnt_lag_2                        0\n",
       "date_avg_item_cnt_lag_3                        0\n",
       "date_item_avg_item_cnt_lag_1                   0\n",
       "date_item_avg_item_cnt_lag_2                   0\n",
       "date_item_avg_item_cnt_lag_3                   0\n",
       "date_shop_avg_item_cnt_lag_1                   0\n",
       "date_shop_avg_item_cnt_lag_2                   0\n",
       "date_shop_avg_item_cnt_lag_3                   0\n",
       "date_category_avg_item_cnt_month_lag_1         0\n",
       "date_category_avg_item_cnt_month_lag_2         0\n",
       "date_category_avg_item_cnt_month_lag_3         0\n",
       "date_shop_category_avg_item_cnt_month_lag_1    0\n",
       "date_shop_category_avg_item_cnt_month_lag_2    0\n",
       "date_shop_category_avg_item_cnt_month_lag_3    0\n",
       "date_avg_item_price_lag_1                      0\n",
       "date_avg_item_price_lag_2                      0\n",
       "date_avg_item_price_lag_3                      0\n",
       "date_shop_avg_item_price_lag_1                 0\n",
       "date_shop_avg_item_price_lag_2                 0\n",
       "date_shop_avg_item_price_lag_3                 0\n",
       "dtype: int64"
      ]
     },
     "execution_count": 43,
     "metadata": {},
     "output_type": "execute_result"
    }
   ],
   "source": [
    "X_train[X_train.date_block_num>2].isna().sum()"
   ]
  },
  {
   "cell_type": "code",
   "execution_count": 45,
   "id": "22eb4b14",
   "metadata": {},
   "outputs": [],
   "source": [
    "X_train = X_train[X_train.date_block_num>2]\n",
    "#X_train.to_csv('./bases/Feature_Eng_res.csv', index=False, header=True)"
   ]
  }
 ],
 "metadata": {
  "kernelspec": {
   "display_name": "Python 3 (ipykernel)",
   "language": "python",
   "name": "python3"
  },
  "language_info": {
   "codemirror_mode": {
    "name": "ipython",
    "version": 3
   },
   "file_extension": ".py",
   "mimetype": "text/x-python",
   "name": "python",
   "nbconvert_exporter": "python",
   "pygments_lexer": "ipython3",
   "version": "3.9.7"
  }
 },
 "nbformat": 4,
 "nbformat_minor": 5
}
